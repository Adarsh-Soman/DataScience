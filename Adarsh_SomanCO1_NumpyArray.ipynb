{
  "nbformat": 4,
  "nbformat_minor": 0,
  "metadata": {
    "colab": {
      "provenance": [],
      "include_colab_link": true
    },
    "kernelspec": {
      "name": "python3",
      "display_name": "Python 3"
    },
    "language_info": {
      "name": "python"
    }
  },
  "cells": [
    {
      "cell_type": "markdown",
      "metadata": {
        "id": "view-in-github",
        "colab_type": "text"
      },
      "source": [
        "<a href=\"https://colab.research.google.com/github/Adarsh-Soman/DataScience/blob/main/Adarsh_SomanCO1_NumpyArray.ipynb\" target=\"_parent\"><img src=\"https://colab.research.google.com/assets/colab-badge.svg\" alt=\"Open In Colab\"/></a>"
      ]
    },
    {
      "cell_type": "code",
      "source": [
        "# program to create an array of all the even integers from 20 to 80\n",
        "import numpy as np\n",
        "x=np.arange(20,80,2)\n",
        "x"
      ],
      "metadata": {
        "id": "cfWur71N9aGi",
        "colab": {
          "base_uri": "https://localhost:8080/"
        },
        "outputId": "5b8d800b-2e24-42d3-ded9-642f4c8c9441"
      },
      "execution_count": 1,
      "outputs": [
        {
          "output_type": "execute_result",
          "data": {
            "text/plain": [
              "array([20, 22, 24, 26, 28, 30, 32, 34, 36, 38, 40, 42, 44, 46, 48, 50, 52,\n",
              "       54, 56, 58, 60, 62, 64, 66, 68, 70, 72, 74, 76, 78])"
            ]
          },
          "metadata": {},
          "execution_count": 1
        }
      ]
    },
    {
      "cell_type": "code",
      "execution_count": 6,
      "metadata": {
        "id": "RmYAaiCX73Y2",
        "colab": {
          "base_uri": "https://localhost:8080/"
        },
        "outputId": "6c63623c-17f7-4cc3-d1cf-25c7605ffe2e"
      },
      "outputs": [
        {
          "output_type": "stream",
          "name": "stdout",
          "text": [
            "[0 2 3 8 5]\n",
            "[1 2 3 7 6]\n",
            "[False False False  True False]\n",
            "[False  True  True  True False]\n",
            "[ True False False False  True]\n",
            "[ True  True  True False  True]\n"
          ]
        }
      ],
      "source": [
        "#Write a program to create a numpy array and perform element-wise comparison (greater, greater_equal, less than, lesser_equal).\n",
        "x=np.array([0,2,3,8,5])\n",
        "y=np.array([1,2,3,7,6])\n",
        "print(x)\n",
        "print(y)\n",
        "print(np.greater(x,y))\n",
        "print(np.greater_equal(x,y))\n",
        "print(np.less(x,y))\n",
        "print(np.less_equal(x,y))"
      ]
    },
    {
      "cell_type": "code",
      "source": [
        "#program to multiply two given arrays of same size\n",
        "a1=np.arange(1,7).reshape(2,3)\n",
        "a2=np.arange(4,10).reshape(2,3)\n",
        "print('\\na1=>\\n',a1)\n",
        "print('\\na2=>\\n',a2)\n",
        "print('\\nProduct\\n',np.multiply(a1,a2))"
      ],
      "metadata": {
        "id": "js_mIfpL9M6z",
        "colab": {
          "base_uri": "https://localhost:8080/"
        },
        "outputId": "19db8ba7-dc75-4914-c841-09c38868970e"
      },
      "execution_count": 11,
      "outputs": [
        {
          "output_type": "stream",
          "name": "stdout",
          "text": [
            "\n",
            "a1=>\n",
            " [[1 2 3]\n",
            " [4 5 6]]\n",
            "\n",
            "a2=>\n",
            " [[4 5 6]\n",
            " [7 8 9]]\n",
            "\n",
            "Product\n",
            " [[ 4 10 18]\n",
            " [28 40 54]]\n"
          ]
        }
      ]
    },
    {
      "cell_type": "code",
      "source": [
        "#Program to save a given array to a text file and load it\n",
        "x=np.arange(0,9).reshape(3,3)\n",
        "print('Array is=>\\n',x)\n",
        "np.savetxt('array.txt',x,fmt=\"%d\")\n",
        "print('\\n After loading the array')\n",
        "print(np.loadtxt('array.txt'))"
      ],
      "metadata": {
        "id": "ZcAcw9Cu9pYA",
        "colab": {
          "base_uri": "https://localhost:8080/"
        },
        "outputId": "49741b62-acc2-4622-f536-e2dddf566457"
      },
      "execution_count": 19,
      "outputs": [
        {
          "output_type": "stream",
          "name": "stdout",
          "text": [
            "Array is=>\n",
            " [[0 1 2]\n",
            " [3 4 5]\n",
            " [6 7 8]]\n",
            "\n",
            " After loading the array\n",
            "[[0. 1. 2.]\n",
            " [3. 4. 5.]\n",
            " [6. 7. 8.]]\n"
          ]
        }
      ]
    }
  ]
}