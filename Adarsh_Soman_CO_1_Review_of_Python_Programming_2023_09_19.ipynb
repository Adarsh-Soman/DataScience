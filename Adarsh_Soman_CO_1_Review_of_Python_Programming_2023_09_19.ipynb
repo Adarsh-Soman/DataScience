{
  "nbformat": 4,
  "nbformat_minor": 0,
  "metadata": {
    "colab": {
      "provenance": [],
      "include_colab_link": true
    },
    "kernelspec": {
      "name": "python3",
      "display_name": "Python 3"
    }
  },
  "cells": [
    {
      "cell_type": "markdown",
      "metadata": {
        "id": "view-in-github",
        "colab_type": "text"
      },
      "source": [
        "<a href=\"https://colab.research.google.com/github/Adarsh-Soman/DataScience/blob/main/Adarsh_Soman_CO_1_Review_of_Python_Programming_2023_09_19.ipynb\" target=\"_parent\"><img src=\"https://colab.research.google.com/assets/colab-badge.svg\" alt=\"Open In Colab\"/></a>"
      ]
    },
    {
      "cell_type": "markdown",
      "metadata": {
        "id": "YZnBY81YDCCr"
      },
      "source": [
        "### Instructions\n",
        "\n",
        "Make a duplicate copy of google colab by clicking **File/ Save a copy in Drive option.** A duplicate copy will get created. It will open up in the new tab on your web browser .After that change **share settings**"
      ]
    },
    {
      "cell_type": "code",
      "source": [],
      "metadata": {
        "id": "Yq143hLym4L8"
      },
      "execution_count": null,
      "outputs": []
    },
    {
      "cell_type": "markdown",
      "metadata": {
        "id": "bEyBzxYRhrLG"
      },
      "source": [
        "#### CO-1 Review of Python Programming\n",
        "\n",
        "This colab is designed for you to practice and solve the activities that are based on the following concepts:\n",
        "\n",
        " 1. Python Lists\n",
        "\n",
        " 2. NumPy Arrays"
      ]
    },
    {
      "cell_type": "markdown",
      "metadata": {
        "id": "8f6-uc0r9Q4h"
      },
      "source": [
        "### Activities"
      ]
    },
    {
      "cell_type": "markdown",
      "metadata": {
        "id": "q4fH06mIjuK3"
      },
      "source": [
        "#### Activity 1: Create a 3 X 3 Matrix\n",
        "\n",
        "To create a 3x3 matrix with values ranging from 2 to 10.\n",
        "\n",
        "**For Example**:\n",
        "\n",
        "```\n",
        "[[ 2  3  4]\n",
        " [ 5  6  7]\n",
        " [ 8  9 10]]\n",
        "```\n",
        "\n",
        "Follow the steps given below to achieve the desired result:\n",
        "\n",
        "  - **Step 1**: Import `numpy` module.\n",
        "\n",
        "  - **Step 2**: Use `arange()` function to create array of numbers from 2 to 10 and `reshape()` function to reshape your array into another array having 3 rows and 3 columns. Store this reshaped array in a variable `x`.\n",
        "\n",
        "  - **Step 3**: Print variable `x` to get the output.\n",
        "\n"
      ]
    },
    {
      "cell_type": "code",
      "metadata": {
        "id": "4EAoTskqg041",
        "colab": {
          "base_uri": "https://localhost:8080/"
        },
        "outputId": "c1d3b246-49c2-496b-f085-370d279971b3"
      },
      "source": [
        "\n",
        "# Write your code here\n",
        "\n",
        "import numpy as np\n",
        "arr=np.arange(2,11).reshape(3,3)\n",
        "print(arr)"
      ],
      "execution_count": null,
      "outputs": [
        {
          "output_type": "stream",
          "name": "stdout",
          "text": [
            "[[ 2  3  4]\n",
            " [ 5  6  7]\n",
            " [ 8  9 10]]\n"
          ]
        }
      ]
    },
    {
      "cell_type": "markdown",
      "metadata": {
        "id": "xJlPs9X9oeRw"
      },
      "source": [
        "---"
      ]
    },
    {
      "cell_type": "markdown",
      "metadata": {
        "id": "qA-b1CdeofKc"
      },
      "source": [
        "#### Activity 2: Change Dimension of an Array and Convert the NumPy Array into a List\n",
        "\n",
        "Write a program to change the dimension of an array (say `my_arr =[1, 2, 3, 4, 5, 6, 7, 8, 9]`) into a 3 X 3 (3 rows and 3 columns) array and convert this NumPy array into a list.\n",
        "\n",
        "**For Example:**\n",
        "```\n",
        "Original array is [1 2 3 4 5 6 7 8 9]\n",
        "Dimension is (9,)\n",
        "Change array shape to (3, 3) -> 3 rows and 3 columns\n",
        "[[1 2 3]\n",
        " [4 5 6]\n",
        " [7 8 9]]\n",
        "\n",
        "The data type of the converted variable is\n",
        " list\n",
        "```\n"
      ]
    },
    {
      "cell_type": "code",
      "metadata": {
        "id": "AtvPTG3kpBoS",
        "colab": {
          "base_uri": "https://localhost:8080/"
        },
        "outputId": "68617ec7-b606-4b01-c29d-ffff152f8669"
      },
      "source": [
        "# Write your code here\n",
        "my_arr =np.arange(1,10).reshape(3,3)\n",
        "print(arr)\n",
        "l=list(arr)\n",
        "print(\"datatype after covert tom list:\\t\",type(l))\n"
      ],
      "execution_count": null,
      "outputs": [
        {
          "output_type": "stream",
          "name": "stdout",
          "text": [
            "[[ 2  3  4]\n",
            " [ 5  6  7]\n",
            " [ 8  9 10]]\n",
            "datatype after covert tom list:\t <class 'list'>\n"
          ]
        }
      ]
    },
    {
      "cell_type": "markdown",
      "metadata": {
        "id": "KOVBiUSMzut1"
      },
      "source": [
        "---"
      ]
    },
    {
      "cell_type": "markdown",
      "metadata": {
        "id": "b4aeCDi0pkJz"
      },
      "source": [
        "#### Activity 3: Find Square Root\n",
        "\n",
        "Write a program to perform following task:\n",
        "-  Print the square root of numbers in the list.\n",
        "\n",
        "**For Example**:\n",
        "\n",
        "```\n",
        "list1 = [4, 16, 9, 1, 25]\n",
        "[2   4    3   1    5 ]\n",
        "\n",
        "```\n",
        "**Hint:** Use `np.sqrt()` function.\n"
      ]
    },
    {
      "cell_type": "code",
      "source": [
        "a2=np.sqrt(np.array( [4, 16, 9, 1, 25]))\n",
        "a2=a2.astype(int)\n",
        "print(a2)"
      ],
      "metadata": {
        "colab": {
          "base_uri": "https://localhost:8080/"
        },
        "id": "A5xLyYXrqiks",
        "outputId": "e893a5ca-27e5-4198-8317-1dfdb3a48d84"
      },
      "execution_count": null,
      "outputs": [
        {
          "output_type": "stream",
          "name": "stdout",
          "text": [
            "[2 4 3 1 5]\n"
          ]
        }
      ]
    },
    {
      "cell_type": "code",
      "metadata": {
        "id": "d5ufKLNYzsIl",
        "colab": {
          "base_uri": "https://localhost:8080/"
        },
        "outputId": "3fe3ad4b-0289-428a-ae51-b091ddda7939"
      },
      "source": [
        "# Write your solution here\n",
        "list1 = [4, 16, 9, 1, 25]\n",
        "l2=[]\n",
        "for i in list1:\n",
        "  l2.append(np.sqrt(i))\n",
        "l2"
      ],
      "execution_count": null,
      "outputs": [
        {
          "output_type": "execute_result",
          "data": {
            "text/plain": [
              "[2.0, 4.0, 3.0, 1.0, 5.0]"
            ]
          },
          "metadata": {},
          "execution_count": 18
        }
      ]
    },
    {
      "cell_type": "markdown",
      "metadata": {
        "id": "HSz7jRSlGxIO"
      },
      "source": [
        "---"
      ]
    },
    {
      "cell_type": "markdown",
      "metadata": {
        "id": "yBYfVsIkMapp"
      },
      "source": [
        "#### Activity 4: Create and Update a Null NumPy Array\n",
        "\n",
        "Create a null NumPy array of size 10 and update the sixth value to 11.\n",
        "\n",
        "A null array is basically an array with all elements as `0`.\n",
        "\n",
        "Follow the steps given below to achieve the desired result:\n",
        "\n",
        "- **Step 1:** Import the Numpy module as `np`.\n",
        "\n",
        "- **Step 2**: Create a null array by passing the size i.e. `10` inside the `np.zeros()` function and store it in a variable `null_arr`.\n",
        "\n",
        "- **Step 3**: Print the null array.\n",
        "\n",
        "- **Step 4**: Now update the sixth element of the array by using **list indexing** method. As you need to update the sixth element, the index must be `5`.\n",
        "\n",
        "- **Step 5**: Print the updated array in the output.\n",
        "\n"
      ]
    },
    {
      "cell_type": "code",
      "metadata": {
        "id": "1SkvwQ1bMap6",
        "colab": {
          "base_uri": "https://localhost:8080/"
        },
        "outputId": "42d0d691-e3c0-43a5-b095-671def93f6cd"
      },
      "source": [
        "# Write a program to create Null array of size 10 and update the sixth value to 11.\n",
        "z=np.zeros((10),dtype=int)\n",
        "print(z)\n",
        "z[5]=11\n",
        "print('Array after update')\n",
        "print(z)"
      ],
      "execution_count": null,
      "outputs": [
        {
          "output_type": "stream",
          "name": "stdout",
          "text": [
            "[0 0 0 0 0 0 0 0 0 0]\n",
            "Array after update\n",
            "[ 0  0  0  0  0 11  0  0  0  0]\n"
          ]
        }
      ]
    },
    {
      "cell_type": "markdown",
      "metadata": {
        "id": "g4IbWToh9uJb"
      },
      "source": [
        "In the above program we have created a null array by using the `np.zeros()` function of the `numpy` module.\n",
        "\n",
        "We have updated the 6th element to `11` by using list indexing method."
      ]
    },
    {
      "cell_type": "markdown",
      "metadata": {
        "id": "wY10aNk0Map9"
      },
      "source": [
        "---"
      ]
    },
    {
      "cell_type": "markdown",
      "metadata": {
        "id": "2LWcJiG8Map9"
      },
      "source": [
        "#### Activity 5: Populate a Number List\n",
        "\n",
        "Write a program that populates a list by numbers that lies in the range of 0 - 49 and also divisible by 5. Use List Comprehension method.\n",
        "\n",
        "**Output**: `[0, 5, 10, 15, 20, 25, 30, 35, 40, 45]`\n",
        "\n",
        "\n"
      ]
    },
    {
      "cell_type": "code",
      "metadata": {
        "id": "NSr2koqJMap-",
        "colab": {
          "base_uri": "https://localhost:8080/"
        },
        "outputId": "b8cec7a6-56bd-45ba-e336-6fc0c9c80010"
      },
      "source": [
        "# Write a program to populate a number list divisible by 5 in a range 0 - 49\n",
        "l=[i for i in range(0,49) if i%5==0]\n",
        "l"
      ],
      "execution_count": null,
      "outputs": [
        {
          "output_type": "execute_result",
          "data": {
            "text/plain": [
              "[0, 5, 10, 15, 20, 25, 30, 35, 40, 45]"
            ]
          },
          "metadata": {},
          "execution_count": 32
        }
      ]
    },
    {
      "cell_type": "markdown",
      "metadata": {
        "id": "yXOg0NUQ-Azb"
      },
      "source": [
        "Here, using list comprehension method we are running a `for` loop in range `0 - 49` and checking whether the number is divisible by `5` or not, using an `if` condition.\n",
        "\n",
        "If number satisfies the condition, then that number is appended to `number_list`."
      ]
    },
    {
      "cell_type": "markdown",
      "metadata": {
        "id": "jTiwP3uIMaqA"
      },
      "source": [
        "---"
      ]
    },
    {
      "cell_type": "markdown",
      "metadata": {
        "id": "UH27IpTXFL37"
      },
      "source": [
        "#### Activity 6: Convert List into Array\n",
        "\n",
        "Write a program to convert a list of numeric values into a one-dimensional NumPy array.\n",
        "\n",
        "**For Example:**\n",
        "\n",
        "**Input**: `mylist = [1.23, 23.32, 300, 16.37]`\n",
        "\n",
        "Data type of `mylist` = `list`\n",
        "\n",
        "**Output**: `numpy_array = [1.23, 23.32, 300, 16.37]`\n",
        "\n",
        "Data type of `numpy_array` = `numpy.ndarray`"
      ]
    },
    {
      "cell_type": "code",
      "metadata": {
        "id": "0ocKkCNpFWOY",
        "colab": {
          "base_uri": "https://localhost:8080/"
        },
        "outputId": "7d8ebe20-2686-45db-d4ce-da1f17862c82"
      },
      "source": [
        "# Program to convert a list into one dimensional NumPy array\n",
        "mylist = [1.23, 23.32, 300, 16.37]\n",
        "print(\"Data type of mylist is\")\n",
        "print(type(mylist))\n",
        "numpy_array=np.array(mylist)\n",
        "print(\"Data type of numpy_array is\")\n",
        "type(numpy_array)"
      ],
      "execution_count": null,
      "outputs": [
        {
          "output_type": "stream",
          "name": "stdout",
          "text": [
            "Data type of mylist is\n",
            "<class 'list'>\n",
            "Data type of numpy_array is\n"
          ]
        },
        {
          "output_type": "execute_result",
          "data": {
            "text/plain": [
              "numpy.ndarray"
            ]
          },
          "metadata": {},
          "execution_count": 35
        }
      ]
    }
  ]
}